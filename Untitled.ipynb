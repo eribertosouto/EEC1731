{
 "cells": [
  {
   "cell_type": "code",
   "execution_count": 30,
   "id": "38103263",
   "metadata": {},
   "outputs": [],
   "source": [
    "import scipy.io\n",
    "import numpy as np\n",
    "import math\n",
    "from scipy.stats import norm\n",
    "dados = scipy.io.loadmat('Prx_Real_2021_1.mat')\n",
    "dPath = dados['dPath']\n",
    "dPrx = dados['dPrx']\n",
    "# Parâmetros para geração do canal sintético\n",
    "sPar_d0 = 5                     # distância de referência d0\n",
    "sPar_P0 = 0                     # Potência medida na distância de referência d0\n",
    "sPar_nPoints = 50000            # Número de amostras da rota de medição\n",
    "sPar_totalLength = 100          # Distância final da rota de medição\n",
    "sPar_n = 4                      # Expoente de perda de percurso\n",
    "sPar_sigma = 6                  # Desvio padrão do shadowing em dB\n",
    "sPar_shadowingWindow = 5        # Tamanho da janela de correlação do shadowing (colocar em função da distância de correlação)\n",
    "sPar_m = 4                      # Parâmetro de Nakagami\n",
    "sPar_txPower = 0                # Potência de transmissão em dBm\n",
    "sPar_nCDF = 40                  # Número de pontos da CDF normalizada\n",
    "#Distância entre pontos de medição\n",
    "sPar_dMed = sPar_totalLength/sPar_nPoints\n",
    "#Vetor de distâncias do transmissor (além da distância de referência)\n",
    "vtDist = np.arange(sPar_d0,sPar_totalLength,sPar_dMed)\n",
    "# Número de amostras geradas\n",
    "nSamples = len(vtDist);\n",
    "# Geração da Perda de percurso (determinística)\n",
    "vtPathLoss = sPar_P0 + 10*sPar_n*np.log10(vtDist/sPar_d0)\n",
    "\n",
    "#Geração do Sombreamento (V.A. Gaussiana com média zero e desvio padrão sigma)\n",
    "nShadowSamples = math.floor(nSamples/sPar_shadowingWindow)\n",
    "vtShadowing = sPar_sigma*norm.ppf(np.random.rand(1,nShadowSamples))\n",
    "\n",
    "\n",
    "# Amostras para a última janela\n",
    "restShadowing = sPar_sigma*norm.ppf(np.random.rand(1,1))*np.ones((1,math.floor(np.mod(nSamples,sPar_shadowingWindow))));\n",
    "\n",
    "\n",
    "% Repetição do mesmo valor de sombreamento durante a janela de correlação\n",
    "vtShadowing = ones(sPar.shadowingWindow,1)*vtShadowing;\n",
    "% Amostras organizadas em um vetor\n",
    "vtShadowing = [reshape(vtShadowing,1,nShadowSamples*sPar.shadowingWindow),restShadowing];\n",
    "% Filtragem para evitar variação abrupta do sombreamento (filtro média móvel)\n"
   ]
  },
  {
   "cell_type": "code",
   "execution_count": 41,
   "id": "20d3ccce",
   "metadata": {},
   "outputs": [
    {
     "data": {
      "text/plain": [
       "array([[1., 1., 1.]])"
      ]
     },
     "execution_count": 41,
     "metadata": {},
     "output_type": "execute_result"
    }
   ],
   "source": [
    "np.ones((1,3))"
   ]
  },
  {
   "cell_type": "code",
   "execution_count": 55,
   "id": "ab732dec",
   "metadata": {},
   "outputs": [
    {
     "data": {
      "text/plain": [
       "1"
      ]
     },
     "execution_count": 55,
     "metadata": {},
     "output_type": "execute_result"
    }
   ],
   "source": [
    "math.floor(np.mod(4,3))"
   ]
  },
  {
   "cell_type": "code",
   "execution_count": null,
   "id": "10aa025f",
   "metadata": {},
   "outputs": [],
   "source": []
  },
  {
   "cell_type": "code",
   "execution_count": null,
   "id": "8d981eb3",
   "metadata": {},
   "outputs": [],
   "source": []
  },
  {
   "cell_type": "code",
   "execution_count": null,
   "id": "1e851834",
   "metadata": {},
   "outputs": [],
   "source": []
  },
  {
   "cell_type": "code",
   "execution_count": null,
   "id": "4eee734c",
   "metadata": {},
   "outputs": [],
   "source": [
    "\n",
    "\n",
    "% O sombreamento tem menos \"2*jan\" amostras devido a filtragem\n",
    "jan = sPar.shadowingWindow/2;\n",
    "iCont = 1;\n",
    "for i = jan+1:nSamples-jan,\n",
    "    vtShadCorr(iCont) = mean(vtShadowing(i-jan:i+jan));\n",
    "    iCont = iCont+1;\n",
    "end\n",
    "% Ajuste do desvio padrão depois do filtro de correlação do sombreamento\n",
    "vtShadCorr = vtShadCorr*std(vtShadowing)/std(vtShadCorr);\n",
    "vtShadCorr = vtShadCorr - mean(vtShadCorr)+ mean(vtShadowing);\n",
    "%\n",
    "% Geração do desvanecimento de pequena escala: Nakagami fading\n",
    "% PDF da envolvtória normalizada\n",
    "fpNakaPdf = @(x)((2.*sPar.m.^sPar.m)./(gamma(sPar.m))).*x.^(2.*sPar.m-1).*exp(-(sPar.m.*x.^2));\n",
    "% Gerador de números aleatórios com distribuição Nakagami\n",
    "vtNakagamiNormEnvelope = slicesample(1,nSamples,'pdf',fpNakaPdf);\n",
    "% Fading em dB (Potência)\n",
    "vtNakagamiSampdB = 20.*log10(vtNakagamiNormEnvelope');\n",
    "%\n",
    "% Cálculo da Potência recebida\n",
    "vtTxPower = sPar.txPower*ones(1,nSamples);\n",
    "% Ajuste do número de amostras devido ao filtro de correlação do\n",
    "% sombreamento (tira 2*\"Jan\" amostras)\n",
    "vtTxPower = vtTxPower(jan+1:nSamples-jan);\n",
    "vtPathLoss = vtPathLoss(jan+1:nSamples-jan);\n",
    "vtFading = vtNakagamiSampdB(jan+1:nSamples-jan);\n",
    "vtDist = vtDist(jan+1:nSamples-jan);\n",
    "% Potência recebida\n",
    "vtPrx = vtTxPower-vtPathLoss+vtShadCorr+vtFading;\n",
    "%\n",
    "% Salvamento dos dados\n",
    "%    Para excel:\n",
    "dlmwrite([sPar.chFileName '.txt'], [vtDist',vtPrx'], 'delimiter', '\\t');\n",
    "%    Matlab\n",
    "save([sPar.chFileName '.mat'],'vtDist', 'vtPathLoss', 'vtShadCorr', 'vtFading', 'vtPrx');\n",
    "%\n",
    "% Mostra informações do canal sintético\n",
    "disp('Canal Medições reais:')\n",
    "disp(['   Média do sombreamento: ' num2str(mean(vtShadCorr)) ]);\n",
    "disp(['   Std do sombreamento: ' num2str(std(vtShadCorr)) ]);\n",
    "disp(['   Janela de correlação do sombreamento: ' num2str(sPar.shadowingWindow) ' amostras' ]);\n",
    "disp(['   Expoente de path loss: ' num2str(sPar.n) ]);\n",
    "disp(['   m de Nakagami: ' num2str(sPar.m) ]);\n",
    "%\n",
    "% Plot do desvanecimento de larga escala (gráfico linear)\n",
    "figure;\n",
    "% Log da distância\n",
    "log_distancia = log10(vtDist);\n",
    "% Potência recebida com canal completo\n",
    "plot(log_distancia,vtPrx); hold all;\n",
    "% Potência recebida com path loss\n",
    "plot(log_distancia,sPar.txPower-vtPathLoss,'linewidth', 2)\n",
    "% Potência recebida com path loss e shadowing\n",
    "plot(log_distancia,sPar.txPower-vtPathLoss+vtShadCorr,'linewidth', 2)\n",
    "%title('Canal sintético: Potência recebida no receptor vs. log da distância')\n",
    "xlabel('log_{10}(d)');\n",
    "ylabel('Potência [dBm]');\n",
    "legend('Prx canal completo', 'Prx (somente perda de percurso)', 'Prx (perda de percurso + sombreamento)');\n",
    "xlim([0.7 1.6])\n",
    "%\n",
    "% Plot da geração do desvanecimento Nakagami\n",
    "figure;\n",
    "[f,x] = hist(vtNakagamiNormEnvelope,100);\n",
    "bar(x,f/trapz(x,f)); % Histograma normalizado = PDF (das amostras)\n",
    "hold all;\n",
    "plot(x,fpNakaPdf(x),'r'); % PDF da distribuição\n",
    "title('Canal Medições reais - desvanecimento de pequena escala');\n",
    "legend('Histograma normalizado das amostras','PDF');"
   ]
  }
 ],
 "metadata": {
  "kernelspec": {
   "display_name": "Python 3",
   "language": "python",
   "name": "python3"
  },
  "language_info": {
   "codemirror_mode": {
    "name": "ipython",
    "version": 3
   },
   "file_extension": ".py",
   "mimetype": "text/x-python",
   "name": "python",
   "nbconvert_exporter": "python",
   "pygments_lexer": "ipython3",
   "version": "3.8.10"
  }
 },
 "nbformat": 4,
 "nbformat_minor": 5
}
